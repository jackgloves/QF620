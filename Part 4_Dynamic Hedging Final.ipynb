{
 "cells": [
  {
   "cell_type": "code",
   "execution_count": 166,
   "id": "2ea147a0",
   "metadata": {},
   "outputs": [],
   "source": [
    "from scipy.stats import norm\n",
    "import numpy as np\n",
    "import matplotlib.pylab as plt\n",
    "import pandas as pd\n",
    "import random\n",
    "\n",
    "\n",
    "def phi(S, K, r, sigma, t):\n",
    "    d1 = (np.log(np.array(S)/K)+(r + sigma**2/2)*(pd.DataFrame(t).values)) / (sigma*np.sqrt(pd.DataFrame(t).values))\n",
    "    return norm.cdf(d1)\n",
    "\n",
    "\n",
    "def psi_Bt(S, K, r, sigma, t):\n",
    "    d2 = (np.log(np.array(S)/K)+(r-sigma**2/2)*(pd.DataFrame(t).values)) / (sigma*np.sqrt(pd.DataFrame(t).values))\n",
    "    return -K*np.exp(-r*(pd.DataFrame(t).values))*norm.cdf(d2)\n",
    "\n",
    "def simulate_Brownian_Motion(paths, steps, T):\n",
    "    deltaT = T/steps\n",
    "    t = np.linspace(0, T, steps+1)\n",
    "    X = np.c_[np.zeros((paths, 1)),\n",
    "              np.random.randn(paths, steps)]\n",
    "    return t, np.cumsum(np.sqrt(deltaT) * X, axis=1)\n",
    "\n",
    "def BlackScholesCall(S, K, r, sigma, T):\n",
    "    d1 = (np.log(S/K)+(r+sigma**2/2)*T) / (sigma*np.sqrt(T))\n",
    "    d2 = d1 - sigma*np.sqrt(T)\n",
    "    return S*norm.cdf(d1) - K*np.exp(-r*T)*norm.cdf(d2)\n",
    "\n",
    "def stock_price(paths, steps, T):\n",
    "    t, W_t = simulate_Brownian_Motion(paths, steps, T)\n",
    "    simulated_stock_price = S0*np.exp((r-sigma**2/2)*t + sigma*W_t)\n",
    "    return t, simulated_stock_price\n",
    "\n",
    "def setting_seed(seed = 630): # setting the randomness\n",
    "    random.seed(seed)\n",
    "    np.random.seed(seed)\n",
    "    \n",
    "setting_seed()"
   ]
  },
  {
   "cell_type": "code",
   "execution_count": 108,
   "id": "8e9cab41",
   "metadata": {},
   "outputs": [],
   "source": [
    "paths = 50000 # 50,000 simulation paths\n",
    "N = 21\n",
    "N_2 = 84  \n",
    "r = 0.05\n",
    "S0 = 100\n",
    "K = 100\n",
    "sigma = 0.2\n",
    "T = 1/12"
   ]
  },
  {
   "cell_type": "code",
   "execution_count": 110,
   "id": "75a9957a",
   "metadata": {},
   "outputs": [],
   "source": [
    "setting_seed()\n",
    "\n",
    "steps_1 = N\n",
    "delta_1 = T/N\n",
    "t_1, stock_price_1 = stock_price(50000, steps_1, T)\n",
    "\n",
    "steps_2 = N_2\n",
    "delta_2 = T/N_2\n",
    "t_2, stock_price_2 = stock_price(50000, steps_2, T)"
   ]
  },
  {
   "cell_type": "code",
   "execution_count": 184,
   "id": "267383b3",
   "metadata": {},
   "outputs": [],
   "source": [
    "def hedging_error(steps,simulated_stock_price, delta_step, t):\n",
    "    delta = []\n",
    "    price = []\n",
    "    next_price = []\n",
    "    \n",
    "    for i in range(steps):\n",
    "        stock_price = simulated_stock_price[ : ,i]\n",
    "        next_stock_price = simulated_stock_price[ : ,i+1]\n",
    "        delta_change = T - t[i]\n",
    "        delta.append(delta_change)\n",
    "        price.append(stock_price)\n",
    "        next_price.append(next_stock_price)\n",
    "        \n",
    "    next_day= (pd.DataFrame(next_price)*phi(price, K, r, sigma, delta) + psi_Bt(price, K, r, sigma, delta)*np.exp(r*delta_step)).T.sum(axis = 1)\n",
    "    today = (pd.DataFrame(price)*phi(price, K, r, sigma, delta)+psi_Bt(price, K, r, sigma, delta)).T.sum(axis = 1)\n",
    "    error = next_day - today\n",
    "    \n",
    "    final_profit_and_loss = error + BlackScholesCall(S0, K, r, sigma, T) - pd.DataFrame(np.maximum(simulated_stock_price - K, 0)).iloc[ : ,-1]\n",
    "    \n",
    "    return final_profit_and_loss"
   ]
  },
  {
   "cell_type": "code",
   "execution_count": 185,
   "id": "af38bcc4",
   "metadata": {},
   "outputs": [
    {
     "data": {
      "text/plain": [
       "0       -0.306626\n",
       "1       -0.080367\n",
       "2       -0.331380\n",
       "3       -0.489548\n",
       "4        0.269960\n",
       "           ...   \n",
       "49995   -0.740241\n",
       "49996   -0.220180\n",
       "49997    0.069070\n",
       "49998    0.537591\n",
       "49999    0.359147\n",
       "Length: 50000, dtype: float64"
      ]
     },
     "execution_count": 185,
     "metadata": {},
     "output_type": "execute_result"
    }
   ],
   "source": [
    "n_1 = hedging_error(steps_1, stock_price_1, delta_1, t_1)\n",
    "n_1"
   ]
  },
  {
   "cell_type": "code",
   "execution_count": 241,
   "id": "008359fc",
   "metadata": {},
   "outputs": [
    {
     "name": "stdout",
     "output_type": "stream",
     "text": [
      "mean_error_N_21 =  0.003176580109724182\n",
      "standard_deviation_error_N_21 =  0.42890919504675684\n",
      "standard_deviation_error_as_percentage of option_premium_N_21 =  17.073954649949464\n"
     ]
    }
   ],
   "source": [
    "print(\"mean_error_N_21 = \", n_1.mean())\n",
    "print(\"standard_deviation_error_N_21 = \", n_1.std())\n",
    "print(\"standard_deviation_error_as_percentage of option_premium_N_21 = \", n_1.std()/BlackScholesCall(S0, K, r, sigma, T) *100)"
   ]
  },
  {
   "cell_type": "code",
   "execution_count": 235,
   "id": "9b21fc58",
   "metadata": {},
   "outputs": [
    {
     "data": {
      "text/plain": [
       "Text(0, 0.5, 'Frequency')"
      ]
     },
     "execution_count": 235,
     "metadata": {},
     "output_type": "execute_result"
    },
    {
     "data": {
      "image/png": "[encoded data removed]",
      "text/plain": [
       "<Figure size 864x576 with 1 Axes>"
      ]
     },
     "metadata": {
      "needs_background": "light"
     },
     "output_type": "display_data"
    }
   ],
   "source": [
    "plt.figure(figsize = (12,8))\n",
    "plt.hist(n_1, bins = 50, range = [-2,2])\n",
    "plt.ylim(0, 9000)\n",
    "plt.yticks(size = 15)\n",
    "plt.xticks(size = 15)\n",
    "plt.title('Hedging_Error_N_21', size = 15)\n",
    "plt.xlabel('Hedging_Error', size = 15)\n",
    "plt.ylabel('Frequency', size = 15)"
   ]
  },
  {
   "cell_type": "code",
   "execution_count": 187,
   "id": "02fc0e5c",
   "metadata": {},
   "outputs": [
    {
     "data": {
      "text/plain": [
       "0        0.123361\n",
       "1        0.136740\n",
       "2        0.300952\n",
       "3       -0.104912\n",
       "4        0.015155\n",
       "           ...   \n",
       "49995   -0.061352\n",
       "49996   -0.054426\n",
       "49997   -0.106742\n",
       "49998   -0.464624\n",
       "49999    0.042985\n",
       "Length: 50000, dtype: float64"
      ]
     },
     "execution_count": 187,
     "metadata": {},
     "output_type": "execute_result"
    }
   ],
   "source": [
    "n_2 = hedging_error(steps_2, stock_price_2, delta_2, t_2)\n",
    "n_2"
   ]
  },
  {
   "cell_type": "code",
   "execution_count": null,
   "id": "cb400764",
   "metadata": {},
   "outputs": [],
   "source": [
    "StDev of P&L as a % of option premium"
   ]
  },
  {
   "cell_type": "code",
   "execution_count": 240,
   "id": "6b413908",
   "metadata": {},
   "outputs": [
    {
     "name": "stdout",
     "output_type": "stream",
     "text": [
      "mean_error_N_84 =  0.0009547969376775895\n",
      "standard_deviation_error_N_84 =  0.21788990986855641\n",
      "standard_deviation_error_as_percentage of option_premium_N_84 =  8.673729737530463\n"
     ]
    }
   ],
   "source": [
    "print(\"mean_error_N_84 = \", n_2.mean())\n",
    "print(\"standard_deviation_error_N_84 = \", n_2.std())\n",
    "print(\"standard_deviation_error_as_percentage of option_premium_N_84 = \", n_2.std()/BlackScholesCall(S0, K, r, sigma, T) *100)"
   ]
  },
  {
   "cell_type": "code",
   "execution_count": 234,
   "id": "1d9eabec",
   "metadata": {},
   "outputs": [
    {
     "data": {
      "text/plain": [
       "Text(0, 0.5, 'Frequency')"
      ]
     },
     "execution_count": 234,
     "metadata": {},
     "output_type": "execute_result"
    },
    {
     "data": {
      "image/png": "[encoded data removed]",
      "text/plain": [
       "<Figure size 864x576 with 1 Axes>"
      ]
     },
     "metadata": {
      "needs_background": "light"
     },
     "output_type": "display_data"
    }
   ],
   "source": [
    "plt.figure(figsize = (12,8))\n",
    "\n",
    "plt.hist(n_2, bins = 50, range = [-2,2])\n",
    "plt.ylim(0, 9000)\n",
    "plt.yticks(size = 15)\n",
    "plt.xticks(size = 15)\n",
    "plt.title('Hedging_Error_N_84', size = 15)\n",
    "plt.xlabel('Hedging_Error', size = 15)\n",
    "plt.ylabel('Frequency', size = 15)"
   ]
  },
  {
   "cell_type": "code",
   "execution_count": 247,
   "id": "4d1d6019",
   "metadata": {},
   "outputs": [
    {
     "data": {
      "text/plain": [
       "0       -0.040312\n",
       "1        0.010066\n",
       "2       -0.064400\n",
       "3        0.105718\n",
       "4        0.142020\n",
       "           ...   \n",
       "49995   -0.021917\n",
       "49996   -0.000152\n",
       "49997   -0.055841\n",
       "49998    0.115994\n",
       "49999   -0.067302\n",
       "Length: 50000, dtype: float64"
      ]
     },
     "execution_count": 247,
     "metadata": {},
     "output_type": "execute_result"
    }
   ],
   "source": [
    "N_3 = 530\n",
    "steps_3 = N_3\n",
    "delta_3 = T/N_3\n",
    "t_3, stock_price_3 = stock_price(50000, steps_3, T)\n",
    "n_3 = hedging_error(steps_3, stock_price_3, delta_3, t_3)\n",
    "n_3"
   ]
  },
  {
   "cell_type": "code",
   "execution_count": 250,
   "id": "ccc6faca",
   "metadata": {},
   "outputs": [
    {
     "data": {
      "text/plain": [
       "Text(0, 0.5, 'Frequency')"
      ]
     },
     "execution_count": 250,
     "metadata": {},
     "output_type": "execute_result"
    },
    {
     "data": {
      "image/png": "[encoded data removed]",
      "text/plain": [
       "<Figure size 864x576 with 1 Axes>"
      ]
     },
     "metadata": {
      "needs_background": "light"
     },
     "output_type": "display_data"
    }
   ],
   "source": [
    "plt.figure(figsize = (12,8))\n",
    "\n",
    "plt.hist(n_3, bins = 50, range = [-2,2])\n",
    "plt.ylim()\n",
    "plt.yticks(size = 15)\n",
    "plt.xticks(size = 15)\n",
    "plt.title('Hedging_Error_N_530', size = 15)\n",
    "plt.xlabel('Hedging_Error', size = 15)\n",
    "plt.ylabel('Frequency', size = 15)"
   ]
  },
  {
   "cell_type": "code",
   "execution_count": 249,
   "id": "6596383a",
   "metadata": {},
   "outputs": [
    {
     "name": "stdout",
     "output_type": "stream",
     "text": [
      "mean_error_N_530 =  0.00013470603967957233\n",
      "standard_deviation_error_N_530 =  0.08747493993736252\n",
      "standard_deviation_error_as_percentage of option_premium_N_530 =  3.482189644674707\n"
     ]
    }
   ],
   "source": [
    "print(\"mean_error_N_530 = \", n_3.mean())\n",
    "print(\"standard_deviation_error_N_530 = \", n_3.std())\n",
    "print(\"standard_deviation_error_as_percentage of option_premium_N_530 = \", n_3.std()/BlackScholesCall(S0, K, r, sigma, T) *100)"
   ]
  },
  {
   "cell_type": "code",
   "execution_count": 291,
   "id": "4e4d7d76",
   "metadata": {},
   "outputs": [],
   "source": [
    "def vega(S0, T, pi):\n",
    "    d1 = (np.log(S0/K)+(r+sigma**2/2)*T) / (sigma*np.sqrt(T))\n",
    "    vega_value = S0*np.sqrt(T)*(np.exp((-d1**2/2))/np.sqrt(2*pi))\n",
    "    return vega_value"
   ]
  },
  {
   "cell_type": "code",
   "execution_count": 295,
   "id": "fb662bd6",
   "metadata": {},
   "outputs": [
    {
     "data": {
      "text/plain": [
       "11.457839419963527"
      ]
     },
     "execution_count": 295,
     "metadata": {},
     "output_type": "execute_result"
    }
   ],
   "source": [
    "vega_value = vega(100, 1/12, 3.141592653589793238)\n",
    "vega_value"
   ]
  },
  {
   "cell_type": "code",
   "execution_count": 296,
   "id": "7ad9fd07",
   "metadata": {},
   "outputs": [],
   "source": [
    "def sigma_error(pi, sigma, N):\n",
    "    value = np.sqrt(pi/4) * vega_value * (sigma/np.sqrt(N))\n",
    "    return value"
   ]
  },
  {
   "cell_type": "code",
   "execution_count": 297,
   "id": "ecb626ec",
   "metadata": {},
   "outputs": [
    {
     "data": {
      "text/plain": [
       "0.44316761914757813"
      ]
     },
     "execution_count": 297,
     "metadata": {},
     "output_type": "execute_result"
    }
   ],
   "source": [
    "sigma_error(3.141592653589793238, 0.2, 21)"
   ]
  },
  {
   "cell_type": "code",
   "execution_count": 298,
   "id": "d4a4338e",
   "metadata": {},
   "outputs": [
    {
     "data": {
      "text/plain": [
       "0.22158380957378906"
      ]
     },
     "execution_count": 298,
     "metadata": {},
     "output_type": "execute_result"
    }
   ],
   "source": [
    "sigma_error(3.141592653589793238, 0.2, 84)"
   ]
  }
 ],
 "metadata": {
  "kernelspec": {
   "display_name": "Python 3 (ipykernel)",
   "language": "python",
   "name": "python3"
  },
  "language_info": {
   "codemirror_mode": {
    "name": "ipython",
    "version": 3
   },
   "file_extension": ".py",
   "mimetype": "text/x-python",
   "name": "python",
   "nbconvert_exporter": "python",
   "pygments_lexer": "ipython3",
   "version": "3.9.12"
  }
 },
 "nbformat": 4,
 "nbformat_minor": 5
}
