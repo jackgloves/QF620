{
 "cells": [
  {
   "cell_type": "code",
   "execution_count": 1,
   "id": "ccab4d4d",
   "metadata": {},
   "outputs": [],
   "source": [
    "import pandas as pd\n",
    "import numpy as np\n",
    "\n",
    "from scipy.stats import norm\n",
    "from scipy.optimize import brentq\n",
    "from scipy import interpolate\n",
    "from scipy.integrate import quad\n",
    "\n",
    "import datetime as dt\n",
    "\n",
    "import matplotlib.pylab as plt"
   ]
  },
  {
   "cell_type": "markdown",
   "id": "14019c5e",
   "metadata": {},
   "source": [
    "## SPX"
   ]
  },
  {
   "cell_type": "code",
   "execution_count": 2,
   "id": "c5b84180",
   "metadata": {},
   "outputs": [],
   "source": [
    "df = pd.read_csv(r'SPX_options.csv')\n",
    "df['mid'] = 0.5*(df['best_bid'] + df['best_offer'])\n",
    "df['strike'] = df['strike_price'] * 0.001\n",
    "\n",
    "df['payoff'] = df['cp_flag'].map(lambda x: 'call' if x == 'C' else 'put')\n",
    "\n",
    "spx = df[(df.exdate == 20210115)]"
   ]
  },
  {
   "cell_type": "code",
   "execution_count": 3,
   "id": "4f06b5f7",
   "metadata": {},
   "outputs": [
    {
     "data": {
      "text/html": [
       "<div>\n",
       "<style scoped>\n",
       "    .dataframe tbody tr th:only-of-type {\n",
       "        vertical-align: middle;\n",
       "    }\n",
       "\n",
       "    .dataframe tbody tr th {\n",
       "        vertical-align: top;\n",
       "    }\n",
       "\n",
       "    .dataframe thead th {\n",
       "        text-align: right;\n",
       "    }\n",
       "</style>\n",
       "<table border=\"1\" class=\"dataframe\">\n",
       "  <thead>\n",
       "    <tr style=\"text-align: right;\">\n",
       "      <th></th>\n",
       "      <th>date</th>\n",
       "      <th>exdate</th>\n",
       "      <th>cp_flag</th>\n",
       "      <th>strike_price</th>\n",
       "      <th>best_bid</th>\n",
       "      <th>best_offer</th>\n",
       "      <th>exercise_style</th>\n",
       "      <th>mid</th>\n",
       "      <th>strike</th>\n",
       "      <th>payoff</th>\n",
       "    </tr>\n",
       "  </thead>\n",
       "  <tbody>\n",
       "    <tr>\n",
       "      <th>1555</th>\n",
       "      <td>20201201</td>\n",
       "      <td>20210115</td>\n",
       "      <td>P</td>\n",
       "      <td>5000000</td>\n",
       "      <td>1330.8</td>\n",
       "      <td>1346.6</td>\n",
       "      <td>E</td>\n",
       "      <td>1338.70</td>\n",
       "      <td>5000.0</td>\n",
       "      <td>put</td>\n",
       "    </tr>\n",
       "    <tr>\n",
       "      <th>1556</th>\n",
       "      <td>20201201</td>\n",
       "      <td>20210115</td>\n",
       "      <td>P</td>\n",
       "      <td>5100000</td>\n",
       "      <td>1428.3</td>\n",
       "      <td>1451.2</td>\n",
       "      <td>E</td>\n",
       "      <td>1439.75</td>\n",
       "      <td>5100.0</td>\n",
       "      <td>put</td>\n",
       "    </tr>\n",
       "    <tr>\n",
       "      <th>1557</th>\n",
       "      <td>20201201</td>\n",
       "      <td>20210115</td>\n",
       "      <td>P</td>\n",
       "      <td>5200000</td>\n",
       "      <td>1528.3</td>\n",
       "      <td>1551.2</td>\n",
       "      <td>E</td>\n",
       "      <td>1539.75</td>\n",
       "      <td>5200.0</td>\n",
       "      <td>put</td>\n",
       "    </tr>\n",
       "    <tr>\n",
       "      <th>1558</th>\n",
       "      <td>20201201</td>\n",
       "      <td>20210115</td>\n",
       "      <td>P</td>\n",
       "      <td>5300000</td>\n",
       "      <td>1628.2</td>\n",
       "      <td>1651.1</td>\n",
       "      <td>E</td>\n",
       "      <td>1639.65</td>\n",
       "      <td>5300.0</td>\n",
       "      <td>put</td>\n",
       "    </tr>\n",
       "    <tr>\n",
       "      <th>1559</th>\n",
       "      <td>20201201</td>\n",
       "      <td>20210115</td>\n",
       "      <td>P</td>\n",
       "      <td>5400000</td>\n",
       "      <td>1728.1</td>\n",
       "      <td>1751.0</td>\n",
       "      <td>E</td>\n",
       "      <td>1739.55</td>\n",
       "      <td>5400.0</td>\n",
       "      <td>put</td>\n",
       "    </tr>\n",
       "  </tbody>\n",
       "</table>\n",
       "</div>"
      ],
      "text/plain": [
       "          date    exdate cp_flag  strike_price  best_bid  best_offer  \\\n",
       "1555  20201201  20210115       P       5000000    1330.8      1346.6   \n",
       "1556  20201201  20210115       P       5100000    1428.3      1451.2   \n",
       "1557  20201201  20210115       P       5200000    1528.3      1551.2   \n",
       "1558  20201201  20210115       P       5300000    1628.2      1651.1   \n",
       "1559  20201201  20210115       P       5400000    1728.1      1751.0   \n",
       "\n",
       "     exercise_style      mid  strike payoff  \n",
       "1555              E  1338.70  5000.0    put  \n",
       "1556              E  1439.75  5100.0    put  \n",
       "1557              E  1539.75  5200.0    put  \n",
       "1558              E  1639.65  5300.0    put  \n",
       "1559              E  1739.55  5400.0    put  "
      ]
     },
     "execution_count": 3,
     "metadata": {},
     "output_type": "execute_result"
    }
   ],
   "source": [
    "spx.tail()"
   ]
  },
  {
   "cell_type": "markdown",
   "id": "d5efa0f8",
   "metadata": {},
   "source": [
    "## T for part 3"
   ]
  },
  {
   "cell_type": "code",
   "execution_count": 4,
   "id": "0abff194",
   "metadata": {},
   "outputs": [],
   "source": [
    "today = dt.date(2020, 12, 1)\n",
    "expiry = dt.date(2021, 1, 15)\n",
    "\n",
    "T = (expiry-today).days/365.0"
   ]
  },
  {
   "cell_type": "markdown",
   "id": "07a1cef0",
   "metadata": {},
   "source": [
    "## Risk-free rate"
   ]
  },
  {
   "cell_type": "code",
   "execution_count": 5,
   "id": "d32b3c70",
   "metadata": {},
   "outputs": [],
   "source": [
    "rf = pd.read_csv(r'zero_rates_20201201.csv')"
   ]
  },
  {
   "cell_type": "code",
   "execution_count": 6,
   "id": "d212d805",
   "metadata": {},
   "outputs": [],
   "source": [
    "x = rf['days']\n",
    "y = rf['rate']\n",
    "f = interpolate.interp1d(x,y)\n",
    "r = f(T*365)/100"
   ]
  },
  {
   "cell_type": "code",
   "execution_count": 7,
   "id": "e80959ff",
   "metadata": {},
   "outputs": [
    {
     "data": {
      "text/plain": [
       "0.0020510755555555554"
      ]
     },
     "execution_count": 7,
     "metadata": {},
     "output_type": "execute_result"
    }
   ],
   "source": [
    "r"
   ]
  },
  {
   "cell_type": "markdown",
   "id": "3ec6d98b",
   "metadata": {},
   "source": [
    "## Other data"
   ]
  },
  {
   "cell_type": "code",
   "execution_count": 8,
   "id": "ce004cd7",
   "metadata": {},
   "outputs": [],
   "source": [
    "K = 3660\n",
    "S = 3662.45\n",
    "F = S*np.exp(r*T)"
   ]
  },
  {
   "cell_type": "code",
   "execution_count": 9,
   "id": "a0e8cfc2",
   "metadata": {},
   "outputs": [
    {
     "data": {
      "text/plain": [
       "3663.3762493669747"
      ]
     },
     "execution_count": 9,
     "metadata": {},
     "output_type": "execute_result"
    }
   ],
   "source": [
    "F"
   ]
  },
  {
   "cell_type": "markdown",
   "id": "0809febd",
   "metadata": {},
   "source": [
    "# Black-Scholes"
   ]
  },
  {
   "cell_type": "code",
   "execution_count": 10,
   "id": "a3a35718",
   "metadata": {},
   "outputs": [],
   "source": [
    "def BlackScholesCall(S, K, r, sigma, T):\n",
    "    d1 = (np.log(S/K)+(r+sigma**2/2)*T) / (sigma*np.sqrt(T))\n",
    "    d2 = d1 - sigma*np.sqrt(T)\n",
    "    return S*norm.cdf(d1) - K*np.exp(-r*T)*norm.cdf(d2)\n",
    "\n",
    "def BlackScholesPut(S, K, r, sigma, T):\n",
    "    return BlackScholesCall(S,K,r,sigma,T)- S + K*np.exp(-r*T)"
   ]
  },
  {
   "cell_type": "code",
   "execution_count": 11,
   "id": "ea929d4e",
   "metadata": {},
   "outputs": [],
   "source": [
    "# Implied Vol\n",
    "def impliedCallVolatility(S, K, r, price, T):\n",
    "    try:\n",
    "        impliedVol = brentq(lambda x: price -\n",
    "                        BlackScholesCall(S, K, r, x, T),\n",
    "                        1e-6, 1)\n",
    "    except Exception:\n",
    "        impliedVol = np.nan\n",
    " \n",
    "    return impliedVol\n",
    "\n",
    "def impliedPutVolatility(S, K, r, price, T):\n",
    "    try:\n",
    "        impliedVol = brentq(lambda x: price -\n",
    "                        BlackScholesPut(S, K, r, x, T),\n",
    "                        1e-6, 1)\n",
    "    except Exception:\n",
    "        impliedVol = np.nan\n",
    "\n",
    "    return impliedVol"
   ]
  },
  {
   "cell_type": "code",
   "execution_count": 12,
   "id": "b1f486a0",
   "metadata": {},
   "outputs": [],
   "source": [
    "## At The Money Vol\n",
    "atm_call = spx[(spx.strike == K)]\n",
    "atm_call = atm_call[(atm_call.cp_flag == \"C\")]\n",
    "\n",
    "atm_put = spx[(spx.strike == K)]\n",
    "atm_put = atm_put[(atm_put.cp_flag == \"P\")]\n",
    "\n",
    "sigma_call = impliedCallVolatility(S, K, r , atm_call.mid, T)\n",
    "sigma_put = impliedPutVolatility(S, K, r, atm_put.mid, T)\n",
    "\n",
    "sigma = (sigma_call + sigma_put)/2"
   ]
  },
  {
   "cell_type": "code",
   "execution_count": 13,
   "id": "57f9aafb",
   "metadata": {},
   "outputs": [
    {
     "name": "stdout",
     "output_type": "stream",
     "text": [
      "BSM Integrated Variance: 0.004236501\n"
     ]
    }
   ],
   "source": [
    "# BSM Integrated Variance\n",
    "def callintegrand(K, S, r, T, sigma):\n",
    "    price = BlackScholesCall(S, K, r, sigma, T) / K**2\n",
    "    return price\n",
    "\n",
    "def putintegrand(K, S, r, T, sigma):\n",
    "    price = BlackScholesPut(S, K, r, sigma, T) / K**2\n",
    "    return price\n",
    "\n",
    "I_put = quad(lambda x: putintegrand(x, S, r, T, sigma), 0.0, F)\n",
    "I_call = quad(lambda x: callintegrand(x, S, r, T, sigma), F, 5000)\n",
    "E_var_BSM = 2*np.exp(r*T)*(I_put[0] + I_call[0])\n",
    "\n",
    "print('BSM Integrated Variance: %.9f' % E_var_BSM)"
   ]
  },
  {
   "cell_type": "code",
   "execution_count": 14,
   "id": "811f024a",
   "metadata": {},
   "outputs": [],
   "source": [
    "# Model-free vol\n",
    "sigma_BSM = np.sqrt(E_var_BSM/T)"
   ]
  },
  {
   "cell_type": "code",
   "execution_count": 37,
   "id": "33b5110b",
   "metadata": {},
   "outputs": [
    {
     "data": {
      "text/plain": [
       "0.1853718792209719"
      ]
     },
     "execution_count": 37,
     "metadata": {},
     "output_type": "execute_result"
    }
   ],
   "source": [
    "sigma_BSM"
   ]
  },
  {
   "cell_type": "code",
   "execution_count": 15,
   "id": "5d6b548c",
   "metadata": {},
   "outputs": [],
   "source": [
    "def Price_BSM(S, r, T, sigma):\n",
    "    return ((S ** (1/3)) * np.exp((1/3) * r - (1/9) * (sigma ** 2) * T) +\\\n",
    "            (3/2) * np.log(S) +\\\n",
    "            (3/2) * (r - ((sigma ** 2) / 2)) * T + 10) * (np.exp(- r * T))"
   ]
  },
  {
   "cell_type": "code",
   "execution_count": 16,
   "id": "e365ea7f",
   "metadata": {},
   "outputs": [
    {
     "name": "stdout",
     "output_type": "stream",
     "text": [
      "BSM Pricing: 37.714081753\n"
     ]
    }
   ],
   "source": [
    "P1 = Price_BSM(S, r, T, sigma_BSM)\n",
    "\n",
    "print('BSM Pricing: %.9f' % P1)"
   ]
  },
  {
   "cell_type": "markdown",
   "id": "e1bc55aa",
   "metadata": {},
   "source": [
    "# Bachelier"
   ]
  },
  {
   "cell_type": "code",
   "execution_count": 17,
   "id": "fc072dbc",
   "metadata": {},
   "outputs": [],
   "source": [
    "def BachelierCall(S, K, r, sigma, T):\n",
    "    F = S * np.exp(r*T)\n",
    "    d = (F-K) / (F*sigma*np.sqrt(T))\n",
    "    disc = np.exp(-r*T)\n",
    "    return disc*((F-K)*norm.cdf(d)+F*sigma*np.sqrt(T)*norm.pdf(d))\n",
    "\n",
    "def BachelierPut(S, K, r, sigma, T):\n",
    "    F = S * np.exp(r*T)\n",
    "    d = (F-K) / (F*sigma*np.sqrt(T))\n",
    "    disc = np.exp(-r*T)\n",
    "    return disc*((K-F)*norm.cdf(-d)+F*sigma*np.sqrt(T)*norm.pdf(-d))"
   ]
  },
  {
   "cell_type": "code",
   "execution_count": 18,
   "id": "72575342",
   "metadata": {},
   "outputs": [
    {
     "name": "stdout",
     "output_type": "stream",
     "text": [
      "BACH Integrated Variance: 0.004263812\n"
     ]
    }
   ],
   "source": [
    "# BACH Model Integrated Variance\n",
    "def callintegrandb(K, S, r, T, sigma):\n",
    "    price = BachelierCall(S, K, r, sigma, T) / K**2\n",
    "    return price\n",
    "\n",
    "def putintegrandb(K, S, r, T, sigma):\n",
    "    price = BachelierPut(S, K, r, sigma, T) / K**2\n",
    "    return price\n",
    "\n",
    "I_put = quad(lambda x: putintegrandb(x, S, r, T, sigma), 0.0, F)\n",
    "I_call = quad(lambda x: callintegrandb(x, S, r, T, sigma), F, 5000)\n",
    "E_var_BACH = 2*np.exp(r*T)*(I_put[0] + I_call[0])\n",
    "\n",
    "print('BACH Integrated Variance: %.9f' % E_var_BACH)"
   ]
  },
  {
   "cell_type": "code",
   "execution_count": 19,
   "id": "f81a7b7e",
   "metadata": {},
   "outputs": [],
   "source": [
    "sigma_BACH = np.sqrt(E_var_BACH/T)"
   ]
  },
  {
   "cell_type": "code",
   "execution_count": 20,
   "id": "6e18faef",
   "metadata": {},
   "outputs": [
    {
     "data": {
      "text/plain": [
       "0.18596842908957534"
      ]
     },
     "execution_count": 20,
     "metadata": {},
     "output_type": "execute_result"
    }
   ],
   "source": [
    "sigma_BACH"
   ]
  },
  {
   "cell_type": "code",
   "execution_count": 21,
   "id": "73f2c82a",
   "metadata": {},
   "outputs": [
    {
     "name": "stdout",
     "output_type": "stream",
     "text": [
      "BACH Pricing: 37.704720822\n"
     ]
    }
   ],
   "source": [
    "import scipy as sp\n",
    "def raw_moment(mean, sigma, moment):\n",
    "    hyp1 = sp.special.hyp1f1(-moment/2, 0.5, - (mean ** 2)/(2 * sigma ** 2))\n",
    "    c_hyp1 = np.sqrt(np.pi) / sp.special.gamma((1-moment)/2)\n",
    "    \n",
    "    hyp2 = sp.special.hyp1f1((1-moment)/2, 1.5, - (mean ** 2)/(2 * sigma ** 2))\n",
    "    c_hyp2 = (mean/sigma) * np.sqrt(2 * np.pi) / sp.special.gamma((-moment)/2)\n",
    "    c_hyp2 = complex(0, c_hyp2)\n",
    "    \n",
    "    hyp = (c_hyp1 * hyp1) + (c_hyp2 * hyp2)\n",
    "\n",
    "    raw_m = (complex(0,sigma)**moment) * (2 ** (moment/2)) * hyp\n",
    "    return np.real(raw_m)\n",
    "\n",
    "def expected_log_approx(mean, sigma): # not accurate\n",
    "    return np.log(mean) - (sigma**2)/(raw_moment(mean,sigma,2))\n",
    "\n",
    "def log_integral(mean, sigma):\n",
    "    return sp.integrate.quad(lambda x: np.log(mean + sigma * x) * sp.stats.norm.pdf(x), -(mean/sigma), np.inf)[0]\n",
    "\n",
    "def BA_Payoff_Func(S, r, sigma, T):\n",
    "    F = S * np.exp(r*T)\n",
    "    mean = F\n",
    "    sigma = sigma * F * np.sqrt(T)\n",
    "#     value = raw_moment(mean, sigma, 1/3) + (1.5 * expected_log_approx(mean, sigma)) + 10\n",
    "\n",
    "## To calculate the payoff of BACH, we get expected raw 1/3 moment of a normal distribution, and the log integral\n",
    "    value = raw_moment(mean, sigma, 1/3) + (1.5 * log_integral(mean, sigma)) + 10\n",
    "    \n",
    "    return value * np.exp(-r*T)\n",
    "\n",
    "\n",
    "P2 = BA_Payoff_Func(S = 3662.45, r = 0.20510755555555554/100, sigma=sigma_BACH,  T = T)\n",
    "print('BACH Pricing: %.9f' % P2)"
   ]
  },
  {
   "cell_type": "markdown",
   "id": "e5251fc2",
   "metadata": {},
   "source": [
    "# Static-replication"
   ]
  },
  {
   "cell_type": "code",
   "execution_count": 22,
   "id": "6c3127a3",
   "metadata": {},
   "outputs": [],
   "source": [
    "from option_pricer import MustSet, Black76, SABR # SABR class"
   ]
  },
  {
   "cell_type": "code",
   "execution_count": 23,
   "id": "1a4f1d40",
   "metadata": {},
   "outputs": [],
   "source": [
    "class SABR(Black76):\n",
    "    \"\"\"\n",
    "    SABR model implemented via calculation of blackscholes implied vol, then passed that vol back to black 76 model\n",
    "    \"\"\"\n",
    "    alpha = MustSet()\n",
    "    beta = MustSet()\n",
    "    rho = MustSet()\n",
    "    nu = MustSet()\n",
    "\n",
    "    def __repr__(self):\n",
    "        out_str = str(self.__class__.__base__.__name__)\n",
    "        out_str += ': ' + str(self.__class__.__name__) + '\\n\\t'\n",
    "        return out_str + self._params_status_str(['F',\n",
    "                                                  'K',\n",
    "                                                  'r',\n",
    "                                                  'alpha',\n",
    "                                                  'beta',\n",
    "                                                  'rho',\n",
    "                                                  'nu',\n",
    "                                                  'T'])\n",
    "\n",
    "    def __init__(self, F=None, K=None, r=None, alpha=None, beta=None, rho=None,\n",
    "                 nu=None, T=None, verbose=False):\n",
    "        super().__init__(F=F, K=K, r=r, sigma=None, T=T, verbose=verbose)\n",
    "        self.alpha = alpha\n",
    "        self.beta = beta\n",
    "        self.rho = rho\n",
    "        self.nu = nu\n",
    "\n",
    "    @staticmethod\n",
    "    def sigma_black_scholes(F, K, T, alpha, beta, rho, nu):\n",
    "        # simplified to facilitate easy vectorization\n",
    "        z = (nu / alpha) * ((F * K) ** (0.5 * (1 - beta))) * np.log(F / K)\n",
    "        zhi = np.log((((1 - 2 * rho * z + z * z) ** 0.5) + z - rho) / (1 - rho))\n",
    "        numer1 = (((1 - beta) ** 2) / 24) * ((alpha * alpha) / ((F * K) ** (1 - beta)))\n",
    "        numer2 = 0.25 * rho * beta * nu * alpha / ((F * K) ** ((1 - beta) / 2))\n",
    "        numer3 = ((2 - 3 * rho * rho) / 24) * nu * nu\n",
    "        numer = alpha * (1 + (numer1 + numer2 + numer3) * T) * z\n",
    "        denom1 = ((1 - beta) ** 2 / 24) * (np.log(F / K)) ** 2\n",
    "        denom2 = (((1 - beta) ** 4) / 1920) * ((np.log(F / K)) ** 4)\n",
    "        denom = ((F * K) ** ((1 - beta) / 2)) * (1 + denom1 + denom2) * zhi\n",
    "\n",
    "        return numer / denom\n",
    "\n",
    "    def cash_nothing_call(self, F=None, K=None, r=None, alpha=None, beta=None, rho=None,\n",
    "                          nu=None, T=None):\n",
    "        F, K, r, alpha, beta, rho, nu, T = self._get_params(F=F, K=K, r=r,\n",
    "                                                            alpha=alpha, beta=beta, rho=rho,  # noqa\n",
    "                                                            nu=nu, T=T)  # noqa\n",
    "\n",
    "        sigma_bs = self.sigma_black_scholes(F, K, T, alpha, beta, rho, nu)\n",
    "        return super().cash_nothing_call(F=F, K=K, r=r, sigma=sigma_bs, T=T) \n",
    "\n",
    "    def cash_nothing_put(self, F=None, K=None, r=None, alpha=None, beta=None, rho=None,\n",
    "                         nu=None, T=None):\n",
    "        F, K, r, alpha, beta, rho, nu, T = self._get_params(F=F, K=K, r=r,\n",
    "                                                            alpha=alpha, beta=beta, rho=rho,  # noqa\n",
    "                                                            nu=nu, T=T)  # noqa\n",
    "\n",
    "        sigma_bs = self.sigma_black_scholes(F, K, T, alpha, beta, rho, nu)\n",
    "        return super().cash_nothing_put(F=F, K=K, r=r, sigma=sigma_bs, T=T)\n",
    "\n",
    "    def asset_nothing_call(self, F=None, K=None, r=None, alpha=None, beta=None, rho=None,\n",
    "                           nu=None, T=None):\n",
    "        F, K, r, alpha, beta, rho, nu, T = self._get_params(F=F, K=K, r=r,\n",
    "                                                            alpha=alpha, beta=beta, rho=rho,  # noqa\n",
    "                                                            nu=nu, T=T)  # noqa\n",
    "\n",
    "        sigma_bs = self.sigma_black_scholes(F, K, T, alpha, beta, rho, nu)\n",
    "        return super().asset_nothing_call(F=F, K=K, r=r, sigma=sigma_bs, T=T)\n",
    "\n",
    "    def asset_nothing_put(self, F=None, K=None, r=None, alpha=None, beta=None, rho=None,\n",
    "                          nu=None, T=None):\n",
    "        F, K, r, alpha, beta, rho, nu, T = self._get_params(F=F, K=K, r=r,\n",
    "                                                            alpha=alpha, beta=beta, rho=rho,  # noqa\n",
    "                                                            nu=nu, T=T)  # noqa\n",
    "\n",
    "        sigma_bs = self.sigma_black_scholes(F, K, T, alpha, beta, rho, nu)\n",
    "        return super().asset_nothing_put(F=F, K=K, r=r, sigma=sigma_bs, T=T)"
   ]
  },
  {
   "cell_type": "code",
   "execution_count": 30,
   "id": "71ab9869",
   "metadata": {},
   "outputs": [
    {
     "data": {
      "text/plain": [
       "Black76: SABR\n",
       "\tF: 3663.3762493669747\n",
       "\tK: Not Set\n",
       "\tr: 0.0020510755555555554\n",
       "\talpha: 1.81727308\n",
       "\tbeta: 0.7\n",
       "\trho: -0.40460926\n",
       "\tnu: 2.78934577\n",
       "\tT: 0.1232876712328767\n",
       "\t"
      ]
     },
     "execution_count": 30,
     "metadata": {},
     "output_type": "execute_result"
    }
   ],
   "source": [
    "alpha = 1.81727308\n",
    "beta = 0.7\n",
    "rho = -0.40460926\n",
    "nu = 2.78934577\n",
    "sabr_45_days = SABR(F=F, r=r, alpha=alpha, beta=beta, rho=rho, nu=nu, T=T, verbose=False)\n",
    "sabr_45_days"
   ]
  },
  {
   "cell_type": "code",
   "execution_count": 31,
   "id": "82923134",
   "metadata": {},
   "outputs": [],
   "source": [
    "def sabr_put_integrand(K):\n",
    "    return sabr_45_days.vanilla_put(K=K) * (-2/9) * (K ** (-5/3)) - (1.5/(K**2))\n",
    "\n",
    "def sabr_call_integrand(K):\n",
    "    return sabr_45_days.vanilla_call(K=K) * (-2/9) * (K ** (-5/3)) - (1.5/(K**2))"
   ]
  },
  {
   "cell_type": "code",
   "execution_count": 32,
   "id": "4f1b95b7",
   "metadata": {},
   "outputs": [
    {
     "name": "stderr",
     "output_type": "stream",
     "text": [
      "C:\\Users\\Miti\\AppData\\Local\\Temp\\ipykernel_18576\\3687794666.py:2: IntegrationWarning: The integral is probably divergent, or slowly convergent.\n",
      "  itg_put_sabr, err = sp.integrate.quad(sabr_put_integrand, 0, F)\n"
     ]
    },
    {
     "data": {
      "text/plain": [
       "37.71098680265409"
      ]
     },
     "execution_count": 32,
     "metadata": {},
     "output_type": "execute_result"
    }
   ],
   "source": [
    "payoff_dc = np.exp(-r*T) * (F ** (1/3)) + 1.5 * np.log(F) + 10\n",
    "itg_put_sabr, err = sp.integrate.quad(sabr_put_integrand, 0, F)\n",
    "itg_call_sabr, err = sp.integrate.quad(sabr_call_integrand, F, 6996)\n",
    "\n",
    "static_valuation = payoff_dc + itg_put_sabr + itg_call_sabr\n",
    "static_valuation"
   ]
  },
  {
   "cell_type": "code",
   "execution_count": 33,
   "id": "2cfd4674",
   "metadata": {},
   "outputs": [],
   "source": [
    "def sabr_put_var_integrand(K):\n",
    "    return sabr_45_days.vanilla_put(K=K) / (K**2)\n",
    "\n",
    "def sabr_call_var_integrand(K):\n",
    "    return sabr_45_days.vanilla_call(K=K) / (K**2)"
   ]
  },
  {
   "cell_type": "code",
   "execution_count": 35,
   "id": "39b9315f",
   "metadata": {},
   "outputs": [
    {
     "name": "stdout",
     "output_type": "stream",
     "text": [
      "SABR Integrated Variance: 0.006350513\n"
     ]
    }
   ],
   "source": [
    "I_put = quad(sabr_put_var_integrand, 0, F)\n",
    "I_call = quad(sabr_call_var_integrand, F, 6996)\n",
    "E_var_SABR = 2*np.exp(r*T)*(I_put[0] + I_call[0])\n",
    "print('SABR Integrated Variance: %.9f' % E_var_SABR)"
   ]
  },
  {
   "cell_type": "code",
   "execution_count": 36,
   "id": "115de098",
   "metadata": {},
   "outputs": [
    {
     "data": {
      "text/plain": [
       "0.22695751488713725"
      ]
     },
     "execution_count": 36,
     "metadata": {},
     "output_type": "execute_result"
    }
   ],
   "source": [
    "sigma_SABR = np.sqrt(E_var_SABR/T)\n",
    "sigma_SABR # much higher than others!"
   ]
  }
 ],
 "metadata": {
  "kernelspec": {
   "display_name": "Python 3 (ipykernel)",
   "language": "python",
   "name": "python3"
  },
  "language_info": {
   "codemirror_mode": {
    "name": "ipython",
    "version": 3
   },
   "file_extension": ".py",
   "mimetype": "text/x-python",
   "name": "python",
   "nbconvert_exporter": "python",
   "pygments_lexer": "ipython3",
   "version": "3.9.12"
  }
 },
 "nbformat": 4,
 "nbformat_minor": 5
}
